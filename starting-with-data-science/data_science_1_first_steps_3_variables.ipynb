{
  "nbformat": 4,
  "nbformat_minor": 0,
  "metadata": {
    "colab": {
      "name": "data-science-1-first-steps-3-variables.ipynb",
      "provenance": [],
      "authorship_tag": "ABX9TyP7bHcaqyhie6Y2ZZB/EUix",
      "include_colab_link": true
    },
    "kernelspec": {
      "name": "python3",
      "display_name": "Python 3"
    }
  },
  "cells": [
    {
      "cell_type": "markdown",
      "metadata": {
        "id": "view-in-github",
        "colab_type": "text"
      },
      "source": [
        "<a href=\"https://colab.research.google.com/github/kdmoreira/DSA-cpp-udemy/blob/master/starting-with-data-science/data_science_1_first_steps_3_variables.ipynb\" target=\"_parent\"><img src=\"https://colab.research.google.com/assets/colab-badge.svg\" alt=\"Open In Colab\"/></a>"
      ]
    },
    {
      "cell_type": "markdown",
      "metadata": {
        "id": "boBvdhoFqsYQ"
      },
      "source": [
        "# Types of Variables"
      ]
    },
    {
      "cell_type": "code",
      "metadata": {
        "colab": {
          "base_uri": "https://localhost:8080/"
        },
        "id": "-E89bDnImQDY",
        "outputId": "5ef7e36f-384d-4348-98ab-80c9b65fc816"
      },
      "source": [
        "import pandas as pd\r\n",
        "tmdb = pd.read_csv(\"tmdb_5000_movies.csv\")\r\n",
        "tmdb.head()\r\n",
        "tmdb.original_language.unique() # variável categórica nominal"
      ],
      "execution_count": null,
      "outputs": [
        {
          "output_type": "execute_result",
          "data": {
            "text/plain": [
              "array(['en', 'ja', 'fr', 'zh', 'es', 'de', 'hi', 'ru', 'ko', 'te', 'cn',\n",
              "       'it', 'nl', 'ta', 'sv', 'th', 'da', 'xx', 'hu', 'cs', 'pt', 'is',\n",
              "       'tr', 'nb', 'af', 'pl', 'he', 'ar', 'vi', 'ky', 'id', 'ro', 'fa',\n",
              "       'no', 'sl', 'ps', 'el'], dtype=object)"
            ]
          },
          "metadata": {
            "tags": []
          },
          "execution_count": 3
        }
      ]
    },
    {
      "cell_type": "code",
      "metadata": {
        "id": "8BQwnzcKsvva"
      },
      "source": [
        "# primeiro grau < segundo grau < terceiro grau\r\n",
        "# -> exemplos de categórico ordinal\r\n",
        "# budget -> quantitativo contínuo (contínua: é possível discretizar valores)\r\n",
        "# votos (1, 2, 3, etc e não 1.5, p. ex), notas do movielens (1.5, mas não 1.7)\r\n",
        "# -> variável quantitativa intervalar"
      ],
      "execution_count": null,
      "outputs": []
    },
    {
      "cell_type": "markdown",
      "metadata": {
        "id": "GCMTadZMvLEz"
      },
      "source": [
        "Practice:"
      ]
    },
    {
      "cell_type": "code",
      "metadata": {
        "colab": {
          "base_uri": "https://localhost:8080/"
        },
        "id": "9JF-7KvEu0qm",
        "outputId": "2552a13c-0cb5-40d8-b13f-838337c5e56a"
      },
      "source": [
        "tmdb.head()\r\n",
        "tmdb.vote_average.unique()"
      ],
      "execution_count": null,
      "outputs": [
        {
          "output_type": "execute_result",
          "data": {
            "text/plain": [
              "array([ 7.2,  6.9,  6.3,  7.6,  6.1,  5.9,  7.4,  7.3,  5.7,  5.4,  7. ,\n",
              "        6.5,  6.4,  6.2,  7.1,  5.8,  6.6,  7.5,  5.5,  6.7,  6.8,  6. ,\n",
              "        5.1,  7.8,  5.6,  5.2,  8.2,  7.7,  5.3,  8. ,  4.8,  4.9,  7.9,\n",
              "        8.1,  4.7,  5. ,  4.2,  4.4,  4.1,  3.7,  3.6,  3. ,  3.9,  4.3,\n",
              "        4.5,  3.4,  4.6,  8.3,  3.5,  4. ,  2.3,  3.2,  0. ,  3.8,  2.9,\n",
              "        8.5,  1.9,  3.1,  3.3,  2.2,  0.5,  9.3,  8.4,  2.7, 10. ,  1. ,\n",
              "        2. ,  2.8,  9.5,  2.6,  2.4])"
            ]
          },
          "metadata": {
            "tags": []
          },
          "execution_count": 6
        }
      ]
    }
  ]
}